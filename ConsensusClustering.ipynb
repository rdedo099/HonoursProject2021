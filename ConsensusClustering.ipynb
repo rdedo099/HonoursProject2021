{
 "cells": [
  {
   "cell_type": "code",
   "execution_count": 1,
   "id": "40aabf26",
   "metadata": {},
   "outputs": [],
   "source": [
    "%load_ext autoreload\n",
    "%autoreload 2"
   ]
  },
  {
   "cell_type": "code",
   "execution_count": 6,
   "id": "ae40dad3",
   "metadata": {},
   "outputs": [],
   "source": [
    "directory = \"./Logs/\"\n",
    "save_path = \"./Saved/\"\n",
    "\n",
    "from load_logs import *\n",
    "from evaluation import *\n",
    "from features import *\n",
    "from visualize import *\n",
    "\n",
    "logs, log_labels = read_logs_and_labels(\"./Saved/logs.txt\", \"./Saved/labels.txt\")\n",
    "\n",
    "import matplotlib.pyplot as plt\n",
    "import numpy as np\n",
    "import pandas as pd\n",
    "import re\n",
    "import os\n",
    "import pickle\n",
    "import sys\n",
    "import random\n",
    "import hdbscan\n",
    "\n",
    "from scipy import sparse\n",
    "from math import sqrt\n",
    "from sklearn import metrics\n",
    "from sklearn.cluster import DBSCAN\n",
    "from sklearn import metrics\n",
    "from sklearn.datasets import make_blobs\n",
    "from sklearn.preprocessing import StandardScaler\n",
    "from sklearn.feature_extraction.text import TfidfTransformer\n",
    "from sklearn.feature_extraction.text import CountVectorizer\n",
    "from sklearn.cluster import KMeans"
   ]
  },
  {
   "cell_type": "code",
   "execution_count": 7,
   "id": "076e88ec",
   "metadata": {},
   "outputs": [],
   "source": [
    "#Time to define necessary functions\n",
    "#Since this is based on a knn idea we will need to calculate euclidean distance"
   ]
  },
  {
   "cell_type": "code",
   "execution_count": 8,
   "id": "c0d681f1",
   "metadata": {},
   "outputs": [],
   "source": [
    "#Euclidan distance function\n",
    "def eucDist(x,y):\n",
    "    dist = 0.0\n",
    "    for i in range (len(y)-1):\n",
    "        dist += (x[i] - y[i])**2\n",
    "    return sqrt(dist)"
   ]
  },
  {
   "cell_type": "code",
   "execution_count": 10,
   "id": "46429d13",
   "metadata": {},
   "outputs": [],
   "source": [
    "#Nearest neighbour \n",
    "def nearestNeigh(x, test_row, neighbors): #specify number of neighbours to return\n",
    "    dist = list()\n",
    "    for x_row in x:\n",
    "        dist = euclidean_distance(y_row, x_row)\n",
    "        distances.append((x_row, dist))\n",
    "        distances.sort(key=lambda tup: tup[1])\n",
    "    neighborsList = list()\n",
    "    for i in range(neighbors):\n",
    "        neighborsList.append(dist[i][0])\n",
    "    return neighborsList"
   ]
  },
  {
   "cell_type": "code",
   "execution_count": null,
   "id": "e3900459",
   "metadata": {},
   "outputs": [],
   "source": []
  },
  {
   "cell_type": "code",
   "execution_count": 5,
   "id": "8bd6fefd",
   "metadata": {},
   "outputs": [],
   "source": [
    "labels_ = log_labels\n",
    "            \n",
    "X = get_features(logs, 2, 70)\n",
    "X = X.toarray()\n",
    "\n",
    "idxs = np.where(np.all(X == 0, axis=1))\n",
    "\n",
    "X = np.delete(X, idxs, axis=0)\n",
    "labels_ = np.delete(labels_, idxs)\n",
    "## K Means Labels\n",
    "kmeans = KMeans(init=\"k-means++\", n_clusters=10,random_state=0).fit(X)\n",
    "kLabels = kmeans.labels_\n",
    "\n",
    "## DBSCAN Labels\n",
    "DBmodel = DBSCAN(eps=0.4,min_samples=200,algorithm=\"auto\",metric=\"cosine\")\n",
    "DBmodel.fit(X)\n",
    "dbLabels = DBmodel.labels_\n",
    "\n",
    "## HDBScan Label\n",
    "Hmodel = hdbscan.HDBSCAN(min_cluster_size=500,min_samples=100,cluster_selection_epsilon=0.5,\n",
    "                                        metric=\"euclidean\",algorithm='best')\n",
    "Hmodel.fit(X)\n",
    "hdcLabels = Hmodel.labels_"
   ]
  },
  {
   "cell_type": "code",
   "execution_count": null,
   "id": "734830bb",
   "metadata": {},
   "outputs": [],
   "source": []
  }
 ],
 "metadata": {
  "kernelspec": {
   "display_name": "Python 3 (ipykernel)",
   "language": "python",
   "name": "python3"
  },
  "language_info": {
   "codemirror_mode": {
    "name": "ipython",
    "version": 3
   },
   "file_extension": ".py",
   "mimetype": "text/x-python",
   "name": "python",
   "nbconvert_exporter": "python",
   "pygments_lexer": "ipython3",
   "version": "3.9.7"
  }
 },
 "nbformat": 4,
 "nbformat_minor": 5
}
