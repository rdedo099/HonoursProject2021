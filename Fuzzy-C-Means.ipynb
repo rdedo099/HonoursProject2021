{
 "cells": [
  {
   "cell_type": "code",
   "execution_count": 1,
   "id": "9644516d",
   "metadata": {},
   "outputs": [
    {
     "name": "stdout",
     "output_type": "stream",
     "text": [
      "Requirement already satisfied: fuzzy-c-means in c:\\users\\riley\\appdata\\local\\packages\\pythonsoftwarefoundation.python.3.9_qbz5n2kfra8p0\\localcache\\local-packages\\python39\\site-packages (1.6.3)\n",
      "Requirement already satisfied: typer<0.4.0,>=0.3.2 in c:\\users\\riley\\appdata\\local\\packages\\pythonsoftwarefoundation.python.3.9_qbz5n2kfra8p0\\localcache\\local-packages\\python39\\site-packages (from fuzzy-c-means) (0.3.2)\n",
      "Requirement already satisfied: pydantic<2.0.0,>=1.8.2 in c:\\users\\riley\\appdata\\local\\packages\\pythonsoftwarefoundation.python.3.9_qbz5n2kfra8p0\\localcache\\local-packages\\python39\\site-packages (from fuzzy-c-means) (1.8.2)\n",
      "Requirement already satisfied: tabulate<0.9.0,>=0.8.9 in c:\\users\\riley\\appdata\\local\\packages\\pythonsoftwarefoundation.python.3.9_qbz5n2kfra8p0\\localcache\\local-packages\\python39\\site-packages (from fuzzy-c-means) (0.8.9)\n",
      "Requirement already satisfied: numpy<2.0.0,>=1.21.1 in c:\\users\\riley\\appdata\\local\\packages\\pythonsoftwarefoundation.python.3.9_qbz5n2kfra8p0\\localcache\\local-packages\\python39\\site-packages (from fuzzy-c-means) (1.21.2)\n",
      "Requirement already satisfied: typing-extensions>=3.7.4.3 in c:\\users\\riley\\appdata\\local\\packages\\pythonsoftwarefoundation.python.3.9_qbz5n2kfra8p0\\localcache\\local-packages\\python39\\site-packages (from pydantic<2.0.0,>=1.8.2->fuzzy-c-means) (3.10.0.2)\n",
      "Requirement already satisfied: click<7.2.0,>=7.1.1 in c:\\users\\riley\\appdata\\local\\packages\\pythonsoftwarefoundation.python.3.9_qbz5n2kfra8p0\\localcache\\local-packages\\python39\\site-packages (from typer<0.4.0,>=0.3.2->fuzzy-c-means) (7.1.2)\n"
     ]
    }
   ],
   "source": [
    "!python3 -m pip install fuzzy-c-means"
   ]
  },
  {
   "cell_type": "code",
   "execution_count": 2,
   "id": "e452fc44",
   "metadata": {},
   "outputs": [],
   "source": [
    "%load_ext autoreload\n",
    "%autoreload 2"
   ]
  },
  {
   "cell_type": "code",
   "execution_count": 3,
   "id": "f6dda434",
   "metadata": {},
   "outputs": [],
   "source": [
    "directory = \"./Logs/\"\n",
    "save_path = \"./Saved/\""
   ]
  },
  {
   "cell_type": "code",
   "execution_count": 4,
   "id": "f5e28010",
   "metadata": {},
   "outputs": [],
   "source": [
    "from load_logs import *\n",
    "from evaluation import *\n",
    "from features import *\n",
    "from visualize import *"
   ]
  },
  {
   "cell_type": "code",
   "execution_count": 5,
   "id": "0bf17571",
   "metadata": {},
   "outputs": [],
   "source": [
    "logs, log_labels = read_logs_and_labels(\"./Saved/logs.txt\", \"./Saved/labels.txt\")"
   ]
  },
  {
   "cell_type": "code",
   "execution_count": null,
   "id": "312574bf",
   "metadata": {},
   "outputs": [],
   "source": [
    "import pandas as pd\n",
    "import numpy as np\n",
    "import re\n",
    "import os\n",
    "import pickle\n",
    "import sys\n",
    "import random\n",
    "from sklearn.datasets import make_blobs\n",
    "from seaborn import scatterplot as scatter\n",
    "\n",
    "from fcmeans import FCM\n",
    "from matplotlib import pyplot as plt"
   ]
  },
  {
   "cell_type": "code",
   "execution_count": null,
   "id": "8fc2c5f3",
   "metadata": {},
   "outputs": [],
   "source": [
    "n_val = 10\n",
    "n_clusters=10\n"
   ]
  },
  {
   "cell_type": "code",
   "execution_count": null,
   "id": "091f424e",
   "metadata": {},
   "outputs": [],
   "source": [
    "fcm = FCM(n_clusters=10)"
   ]
  },
  {
   "cell_type": "code",
   "execution_count": null,
   "id": "ba384620",
   "metadata": {},
   "outputs": [],
   "source": [
    "labels_ = log_labels\n",
    "            \n",
    "X = get_features(logs, 2, 70)\n",
    "X = X.toarray()\n",
    "\n",
    "idxs = np.where(np.all(X == 0, axis=1))\n",
    "\n",
    "X = np.delete(X, idxs, axis=0)\n",
    "labels_ = np.delete(labels_, idxs)"
   ]
  },
  {
   "cell_type": "code",
   "execution_count": null,
   "id": "8d977af9",
   "metadata": {},
   "outputs": [],
   "source": [
    "fcm.fit(X)\n",
    "# outputs\n",
    "fcm_centers = fcm.centers\n",
    "fcm_labels  = fcm.u.argmax(axis=1)"
   ]
  },
  {
   "cell_type": "code",
   "execution_count": null,
   "id": "298782d7",
   "metadata": {},
   "outputs": [],
   "source": [
    "plot_clusters(\"Fuzzy C Means Bigram Clustering using UMAP\", X, fcm_labels)"
   ]
  },
  {
   "cell_type": "code",
   "execution_count": null,
   "id": "7b9fe63f",
   "metadata": {},
   "outputs": [],
   "source": [
    "\n",
    "results = evaluate_clustering('Fuzzy C Means Bigram Clustering', X, labels_, fcm_labels)\n",
    "print(results)\n"
   ]
  },
  {
   "cell_type": "code",
   "execution_count": null,
   "id": "d8c18b62",
   "metadata": {},
   "outputs": [],
   "source": [
    "labels_ = log_labels\n",
    "            \n",
    "X = get_features(logs, 3, 90)\n",
    "X = X.toarray()\n",
    "\n",
    "idxs = np.where(np.all(X == 0, axis=1))\n",
    "\n",
    "X = np.delete(X, idxs, axis=0)\n",
    "labels_ = np.delete(labels_, idxs)"
   ]
  },
  {
   "cell_type": "code",
   "execution_count": null,
   "id": "5139dff1",
   "metadata": {},
   "outputs": [],
   "source": [
    "fcm.fit(X)\n",
    "# outputs\n",
    "fcm_centers = fcm.centers\n",
    "fcm_labels  = fcm.u.argmax(axis=1)"
   ]
  },
  {
   "cell_type": "code",
   "execution_count": null,
   "id": "cead4e01",
   "metadata": {},
   "outputs": [],
   "source": [
    "plot_clusters(\"Fuzzy C Means Trigram Clustering using UMAP\", X, fcm_labels)"
   ]
  },
  {
   "cell_type": "code",
   "execution_count": null,
   "id": "df8e47ef",
   "metadata": {},
   "outputs": [],
   "source": [
    "\n",
    "results = evaluate_clustering('Fuzzy C Means Trigram Clustering', X, labels_, fcm_labels)\n",
    "print(results)"
   ]
  },
  {
   "cell_type": "code",
   "execution_count": null,
   "id": "60e3ee34",
   "metadata": {},
   "outputs": [],
   "source": []
  }
 ],
 "metadata": {
  "kernelspec": {
   "display_name": "Python 3 (ipykernel)",
   "language": "python",
   "name": "python3"
  },
  "language_info": {
   "codemirror_mode": {
    "name": "ipython",
    "version": 3
   },
   "file_extension": ".py",
   "mimetype": "text/x-python",
   "name": "python",
   "nbconvert_exporter": "python",
   "pygments_lexer": "ipython3",
   "version": "3.9.7"
  }
 },
 "nbformat": 4,
 "nbformat_minor": 5
}
