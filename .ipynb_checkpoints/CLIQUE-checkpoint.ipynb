{
 "cells": [
  {
   "cell_type": "code",
   "execution_count": 1,
   "id": "cc73abee",
   "metadata": {},
   "outputs": [
    {
     "name": "stdout",
     "output_type": "stream",
     "text": [
      "Collecting pyclustering\n",
      "  Downloading pyclustering-0.10.1.2.tar.gz (2.6 MB)\n",
      "Requirement already satisfied: scipy>=1.1.0 in c:\\users\\riley\\appdata\\local\\packages\\pythonsoftwarefoundation.python.3.9_qbz5n2kfra8p0\\localcache\\local-packages\\python39\\site-packages (from pyclustering) (1.7.0)\n",
      "Requirement already satisfied: matplotlib>=3.0.0 in c:\\users\\riley\\appdata\\local\\packages\\pythonsoftwarefoundation.python.3.9_qbz5n2kfra8p0\\localcache\\local-packages\\python39\\site-packages (from pyclustering) (3.4.2)\n",
      "Requirement already satisfied: numpy>=1.15.2 in c:\\users\\riley\\appdata\\local\\packages\\pythonsoftwarefoundation.python.3.9_qbz5n2kfra8p0\\localcache\\local-packages\\python39\\site-packages (from pyclustering) (1.21.0)\n",
      "Requirement already satisfied: Pillow>=5.2.0 in c:\\users\\riley\\appdata\\local\\packages\\pythonsoftwarefoundation.python.3.9_qbz5n2kfra8p0\\localcache\\local-packages\\python39\\site-packages (from pyclustering) (8.2.0)\n",
      "Requirement already satisfied: python-dateutil>=2.7 in c:\\users\\riley\\appdata\\local\\packages\\pythonsoftwarefoundation.python.3.9_qbz5n2kfra8p0\\localcache\\local-packages\\python39\\site-packages (from matplotlib>=3.0.0->pyclustering) (2.8.1)\n",
      "Requirement already satisfied: cycler>=0.10 in c:\\users\\riley\\appdata\\local\\packages\\pythonsoftwarefoundation.python.3.9_qbz5n2kfra8p0\\localcache\\local-packages\\python39\\site-packages (from matplotlib>=3.0.0->pyclustering) (0.10.0)\n",
      "Requirement already satisfied: kiwisolver>=1.0.1 in c:\\users\\riley\\appdata\\local\\packages\\pythonsoftwarefoundation.python.3.9_qbz5n2kfra8p0\\localcache\\local-packages\\python39\\site-packages (from matplotlib>=3.0.0->pyclustering) (1.3.1)\n",
      "Requirement already satisfied: pyparsing>=2.2.1 in c:\\users\\riley\\appdata\\local\\packages\\pythonsoftwarefoundation.python.3.9_qbz5n2kfra8p0\\localcache\\local-packages\\python39\\site-packages (from matplotlib>=3.0.0->pyclustering) (2.4.7)\n",
      "Requirement already satisfied: six in c:\\users\\riley\\appdata\\local\\packages\\pythonsoftwarefoundation.python.3.9_qbz5n2kfra8p0\\localcache\\local-packages\\python39\\site-packages (from cycler>=0.10->matplotlib>=3.0.0->pyclustering) (1.16.0)\n",
      "Using legacy 'setup.py install' for pyclustering, since package 'wheel' is not installed.\n",
      "Installing collected packages: pyclustering\n",
      "    Running setup.py install for pyclustering: started\n",
      "    Running setup.py install for pyclustering: finished with status 'done'\n",
      "Successfully installed pyclustering-0.10.1.2\n"
     ]
    }
   ],
   "source": [
    "!pip install pyclustering"
   ]
  },
  {
   "cell_type": "code",
   "execution_count": 2,
   "id": "8875441e",
   "metadata": {},
   "outputs": [],
   "source": [
    "%load_ext autoreload\n",
    "%autoreload 2"
   ]
  },
  {
   "cell_type": "code",
   "execution_count": 3,
   "id": "ae8d0906",
   "metadata": {},
   "outputs": [
    {
     "ename": "ModuleNotFoundError",
     "evalue": "No module named 'Clique'",
     "output_type": "error",
     "traceback": [
      "\u001b[1;31m---------------------------------------------------------------------------\u001b[0m",
      "\u001b[1;31mModuleNotFoundError\u001b[0m                       Traceback (most recent call last)",
      "\u001b[1;32m~\\AppData\\Local\\Temp/ipykernel_13616/4007555763.py\u001b[0m in \u001b[0;36m<module>\u001b[1;34m\u001b[0m\n\u001b[1;32m----> 1\u001b[1;33m \u001b[1;32mfrom\u001b[0m \u001b[0mClique\u001b[0m\u001b[1;33m.\u001b[0m\u001b[0mClique\u001b[0m \u001b[1;32mimport\u001b[0m \u001b[1;33m*\u001b[0m\u001b[1;33m\u001b[0m\u001b[1;33m\u001b[0m\u001b[0m\n\u001b[0m",
      "\u001b[1;31mModuleNotFoundError\u001b[0m: No module named 'Clique'"
     ]
    }
   ],
   "source": [
    "from Clique.Clique import *"
   ]
  },
  {
   "cell_type": "code",
   "execution_count": null,
   "id": "281babbd",
   "metadata": {},
   "outputs": [],
   "source": [
    "from load_logs import *\n",
    "from evaluation import *\n",
    "from features import *\n",
    "from visualize import *"
   ]
  },
  {
   "cell_type": "code",
   "execution_count": null,
   "id": "c2fcae7b",
   "metadata": {},
   "outputs": [],
   "source": [
    "import matplotlib.pyplot as plt\n",
    "import numpy as np"
   ]
  },
  {
   "cell_type": "code",
   "execution_count": null,
   "id": "0295e1f9",
   "metadata": {},
   "outputs": [],
   "source": [
    "logs, log_labels = read_logs_and_labels(\"./Saved/logs.txt\", \"./Saved/labels.txt\")"
   ]
  },
  {
   "cell_type": "code",
   "execution_count": null,
   "id": "ed9f4825",
   "metadata": {},
   "outputs": [],
   "source": [
    "np.set_printoptions(threshold=np.inf)"
   ]
  },
  {
   "cell_type": "code",
   "execution_count": null,
   "id": "7db53904",
   "metadata": {},
   "outputs": [],
   "source": [
    "X = get_features(logs, 2, 70)\n",
    "X = X.toarray()"
   ]
  },
  {
   "cell_type": "code",
   "execution_count": null,
   "id": "45fd7ca8",
   "metadata": {},
   "outputs": [],
   "source": [
    "np.count_nonzero(X[13456,:])"
   ]
  },
  {
   "cell_type": "code",
   "execution_count": null,
   "id": "18942b7a",
   "metadata": {},
   "outputs": [],
   "source": [
    "intervals = [3, 5, 10, 20, 30, 40, 50]\n",
    "thresholds = [0.1, 0.2, 0.3, 0.4, 0.5]"
   ]
  },
  {
   "cell_type": "code",
   "execution_count": null,
   "id": "c523b4b8",
   "metadata": {},
   "outputs": [],
   "source": [
    "def grid_search(logs, labels_, gram, min_df):\n",
    "    X = get_features(logs, gram, min_df)\n",
    "    X = X.toarray()\n",
    "    \n",
    "    idxs = np.where(np.all(X == 0, axis=1))\n",
    "    \n",
    "    X = np.delete(X, idxs, axis=0)\n",
    "    labels_ = np.delete(labels_, idxs)\n",
    "    \n",
    "    result_header = [\"Interval\", \"Threshold\", \"VMeasure\", \"Fowlkes-Mallows\"]\n",
    "    results = []\n",
    "    \n",
    "    for interval in intervals:\n",
    "        for threshold in thresholds:\n",
    "            \n",
    "            clusters = run_clique(data=X,\n",
    "                          xsi=interval,\n",
    "                          tau=threshold)\n",
    "            \n",
    "            print(\"Clique eval for interval %2d, and threshold %2d\" % (interval, threshold))\n",
    "            evaluate_clustering_performance(clusters, labels_)\n",
    "            \n",
    "#             vm = evaluate_vmeasure(labels_, labels)\n",
    "#             fm = evaluate_fm(labels_, labels)\n",
    "\n",
    "#             result = [interval, threshold, vm, fm]\n",
    "#             results.append(result)\n",
    "\n",
    "#             tab_results(result_header, results) \n",
    "#     tab_results(result_header, results) "
   ]
  },
  {
   "cell_type": "code",
   "execution_count": null,
   "id": "d166ed79",
   "metadata": {},
   "outputs": [],
   "source": [
    "# def grid_search(logs, labels_, gram, min_df):\n",
    "#     X = get_features(logs, gram, min_df)\n",
    "#     X = X.toarray()\n",
    "    \n",
    "#     idxs = np.where(np.all(X == 0, axis=1))\n",
    "    \n",
    "#     X = np.delete(X, idxs, axis=0)\n",
    "#     labels_ = np.delete(labels_, idxs)\n",
    "    \n",
    "#     result_header = [\"Interval\", \"Threshold\", \"VMeasure\", \"Fowlkes-Mallows\"]\n",
    "#     results = []\n",
    "    \n",
    "#     for interval in intervals:\n",
    "#         for threshold in thresholds:\n",
    "            \n",
    "#             clique_instance = clique(X, 40, 0)\n",
    "#             clique_instance.process()\n",
    "            \n",
    "#             labels = clique_instance.get_clusters()\n",
    "#             #labels = labels.reshape\n",
    "#             print(labels)\n",
    "#             #print(labels.shape)\n",
    "            \n",
    "#             cells = clique_instance.get_cells()\n",
    "#             #print(cells)\n",
    "            \n",
    "#             vm = evaluate_vmeasure(labels_, labels)\n",
    "#             fm = evaluate_fm(labels_, labels)\n",
    "\n",
    "#             result = [metric, linkage, vm, fm]\n",
    "#             results.append(result)\n",
    "\n",
    "#             tab_results(result_header, results) \n",
    "#     tab_results(result_header, results) "
   ]
  },
  {
   "cell_type": "code",
   "execution_count": null,
   "id": "f187a332",
   "metadata": {},
   "outputs": [],
   "source": [
    "grid_search(logs, log_labels, 2, 70)"
   ]
  },
  {
   "cell_type": "code",
   "execution_count": null,
   "id": "3437969a",
   "metadata": {},
   "outputs": [],
   "source": [
    "grid_search(logs, log_labels, 3, 90)"
   ]
  },
  {
   "cell_type": "code",
   "execution_count": null,
   "id": "6e46b902",
   "metadata": {},
   "outputs": [],
   "source": [
    "X = get_features(logs, 2, 100)\n",
    "X = X.toarray()\n",
    "\n",
    "idxs = np.where(np.all(X == 0, axis=1))\n",
    "\n",
    "X = np.delete(X, idxs, axis=0)"
   ]
  },
  {
   "cell_type": "code",
   "execution_count": null,
   "id": "a393fa9c",
   "metadata": {},
   "outputs": [],
   "source": [
    "from pyclustering.cluster.clique import clique, clique_visualizer\n",
    "from pyclustering.utils import read_sample\n",
    "from pyclustering.samples.definitions import FCPS_SAMPLES\n",
    "# read two-dimensional input data 'Target'\n",
    "data = X\n",
    "# create CLIQUE algorithm for processing\n",
    "intervals = 1  # defines amount of cells in grid in each dimension\n",
    "threshold = 1   # lets consider each point as non-outlier\n",
    "clique_instance = clique(data, intervals, threshold)\n",
    "# start clustering process and obtain results\n",
    "clique_instance.process()\n",
    "clusters = clique_instance.get_clusters()  # allocated clusters\n",
    "noise = clique_instance.get_noise()     # points that are considered as outliers (in this example should be empty)\n",
    "cells = clique_instance.get_cells()     # CLIQUE blocks that forms grid\n",
    "print(\"Amount of clusters:\", len(clusters))\n",
    "# visualize clustering results\n",
    "clique_visualizer.show_grid(cells, data[:,:2])    # show grid that has been formed by the algorithm\n",
    "clique_visualizer.show_clusters(data[:,:2], clusters, noise)  # show clustering results"
   ]
  },
  {
   "cell_type": "code",
   "execution_count": null,
   "id": "e3184925",
   "metadata": {},
   "outputs": [],
   "source": [
    "data[:, :2]"
   ]
  },
  {
   "cell_type": "markdown",
   "id": "27b38515",
   "metadata": {},
   "source": [
    "## Bigram Feature Vectorizer"
   ]
  },
  {
   "cell_type": "code",
   "execution_count": null,
   "id": "ef393d37",
   "metadata": {},
   "outputs": [],
   "source": [
    "eval_results = []"
   ]
  },
  {
   "cell_type": "code",
   "execution_count": null,
   "id": "a2b96eea",
   "metadata": {},
   "outputs": [],
   "source": [
    "labels_ = log_labels\n",
    "            \n",
    "X = get_features(logs, 2, 70)\n",
    "X = X.toarray()\n",
    "\n",
    "idxs = np.where(np.all(X == 0, axis=1))\n",
    "\n",
    "X = np.delete(X, idxs, axis=0)\n",
    "labels_ = np.delete(labels_, idxs)"
   ]
  },
  {
   "cell_type": "code",
   "execution_count": null,
   "id": "0451bce9",
   "metadata": {},
   "outputs": [],
   "source": [
    "clique_instance = clique(X, interval, threshold)\n",
    "clique_instance.process()\n",
    "\n",
    "labels = clique_instance.get_clusters()"
   ]
  },
  {
   "cell_type": "code",
   "execution_count": null,
   "id": "f679cc90",
   "metadata": {},
   "outputs": [],
   "source": [
    "plot_clusters(\"CLIQUE Bigram Clustering using UMAP\", X, labels)"
   ]
  },
  {
   "cell_type": "code",
   "execution_count": null,
   "id": "ac52881a",
   "metadata": {},
   "outputs": [],
   "source": [
    "results = evaluate_clustering('CLIQUE Bigram Clustering', X, labels_, labels)\n",
    "print(results)"
   ]
  },
  {
   "cell_type": "code",
   "execution_count": null,
   "id": "455008a2",
   "metadata": {},
   "outputs": [],
   "source": [
    "eval_results.append(results)"
   ]
  },
  {
   "cell_type": "code",
   "execution_count": null,
   "id": "b071b97c",
   "metadata": {},
   "outputs": [],
   "source": []
  },
  {
   "cell_type": "markdown",
   "id": "584da61f",
   "metadata": {},
   "source": [
    "## Trigram Feature Vectorizer"
   ]
  },
  {
   "cell_type": "code",
   "execution_count": null,
   "id": "148b4974",
   "metadata": {},
   "outputs": [],
   "source": [
    "labels_ = log_labels\n",
    "            \n",
    "X = get_features(logs, 3, 90)\n",
    "X = X.toarray()\n",
    "\n",
    "idxs = np.where(np.all(X == 0, axis=1))\n",
    "\n",
    "X = np.delete(X, idxs, axis=0)\n",
    "labels_ = np.delete(labels_, idxs)"
   ]
  },
  {
   "cell_type": "code",
   "execution_count": null,
   "id": "7db3c757",
   "metadata": {},
   "outputs": [],
   "source": [
    "clique_instance = clique(X, interval, threshold)\n",
    "clique_instance.process()\n",
    "\n",
    "labels = clique_instance.get_clusters()"
   ]
  },
  {
   "cell_type": "code",
   "execution_count": null,
   "id": "158b1890",
   "metadata": {},
   "outputs": [],
   "source": [
    "plot_clusters(\"CLIQUE Bigram Clustering using UMAP\", X, labels)"
   ]
  },
  {
   "cell_type": "code",
   "execution_count": null,
   "id": "6842ec0d",
   "metadata": {},
   "outputs": [],
   "source": [
    "results = evaluate_clustering('CLIQUE Bigram Clustering', X, labels_, labels)\n",
    "print(results)"
   ]
  },
  {
   "cell_type": "code",
   "execution_count": null,
   "id": "fabf6b39",
   "metadata": {},
   "outputs": [],
   "source": [
    "eval_results.append(results)"
   ]
  },
  {
   "cell_type": "code",
   "execution_count": null,
   "id": "5c134fb6",
   "metadata": {},
   "outputs": [],
   "source": []
  }
 ],
 "metadata": {
  "kernelspec": {
   "display_name": "Python 3 (ipykernel)",
   "language": "python",
   "name": "python3"
  },
  "language_info": {
   "codemirror_mode": {
    "name": "ipython",
    "version": 3
   },
   "file_extension": ".py",
   "mimetype": "text/x-python",
   "name": "python",
   "nbconvert_exporter": "python",
   "pygments_lexer": "ipython3",
   "version": "3.9.7"
  }
 },
 "nbformat": 4,
 "nbformat_minor": 5
}
