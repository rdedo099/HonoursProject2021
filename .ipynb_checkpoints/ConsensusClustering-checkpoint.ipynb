{
 "cells": [
  {
   "cell_type": "code",
   "execution_count": 4,
   "id": "40aabf26",
   "metadata": {},
   "outputs": [],
   "source": [
    "%load_ext autoreload\n",
    "%autoreload 2"
   ]
  },
  {
   "cell_type": "code",
   "execution_count": 5,
   "id": "ae40dad3",
   "metadata": {},
   "outputs": [],
   "source": [
    "directory = \"./Logs/\"\n",
    "save_path = \"./Saved/\"\n",
    "\n",
    "from load_logs import *\n",
    "from evaluation import *\n",
    "from features import *\n",
    "from visualize import *\n",
    "\n",
    "logs, log_labels = read_logs_and_labels(\"./Saved/logs.txt\", \"./Saved/labels.txt\")\n",
    "\n",
    "import matplotlib.pyplot as plt\n",
    "import numpy as np\n",
    "import pandas as pd\n",
    "import re\n",
    "import os\n",
    "import pickle\n",
    "import sys\n",
    "import random\n",
    "import hdbscan\n",
    "\n",
    "from scipy import sparse\n",
    "from math import sqrt\n",
    "from sklearn import metrics\n",
    "from sklearn.cluster import DBSCAN\n",
    "from sklearn import metrics\n",
    "from sklearn.datasets import make_blobs\n",
    "from sklearn.preprocessing import StandardScaler\n",
    "from sklearn.feature_extraction.text import TfidfTransformer\n",
    "from sklearn.feature_extraction.text import CountVectorizer\n",
    "from sklearn.cluster import KMeans"
   ]
  },
  {
   "cell_type": "code",
   "execution_count": 6,
   "id": "076e88ec",
   "metadata": {},
   "outputs": [],
   "source": [
    "#Time to define necessary functions\n",
    "#Since this is based on a knn idea we will need to calculate euclidean distance"
   ]
  },
  {
   "cell_type": "code",
   "execution_count": 64,
   "id": "c0d681f1",
   "metadata": {},
   "outputs": [],
   "source": [
    "#Euclidan distance function\n",
    "def eucDist(x,y):\n",
    "    dist = 0.0\n",
    "    for i in range (len(y)-1):\n",
    "        dist += (x[i] - y[i])**2\n",
    "    return sqrt(dist)"
   ]
  },
  {
   "cell_type": "code",
   "execution_count": 65,
   "id": "46429d13",
   "metadata": {},
   "outputs": [],
   "source": [
    "#Nearest neighbour - gets x number of nearest nodes\n",
    "def nearest(x, y_row, neighbors, labels): #specify number of neighbours to return\n",
    "    distances = list()\n",
    "    for i in range(len(x)): #loop through x, calculate distance and sort by distance, will allow us to get nearest neighbor\n",
    "        x_row = x[i]\n",
    "        dist = eucDist(y_row, x_row)\n",
    "        nodeLabels = list()\n",
    "        for lab in labels:\n",
    "            nodeLabels.append(lab[i])\n",
    "        distances.append((x_row, dist, nodeLabels))\n",
    "        distances.sort(key=lambda tup: tup[1])\n",
    "    neighborsList = list()\n",
    "    neighborsLabels = list()\n",
    "    for i in range(neighbors): #27093\n",
    "        neighborsList.append(distances[i][0])\n",
    "        neighborsLabels.append(distances[i][2])\n",
    "    return neighborsList, neighborsLabels"
   ]
  },
  {
   "cell_type": "code",
   "execution_count": 81,
   "id": "e3900459",
   "metadata": {},
   "outputs": [],
   "source": [
    "#Current and nearest are same cluster then true otherwise false\n",
    "def checkClus(x,y):\n",
    "    boolArr = list()\n",
    "    for i in range(len(x)):\n",
    "        if (x[i] == y[i]):\n",
    "            boolArr.append(True)\n",
    "        else:\n",
    "            boolArr.append(False)\n",
    "    return boolArr"
   ]
  },
  {
   "cell_type": "code",
   "execution_count": 83,
   "id": "bb9fe70f",
   "metadata": {},
   "outputs": [],
   "source": [
    "def consensus(boolArr): #form boolean array from checkClus, if majority are true then the node should be in the cluster, otherwise not\n",
    "    trueCount = 0\n",
    "    total = len(boolArr)\n",
    "    for i in boolArr:\n",
    "        if i == True:\n",
    "            trueCount = trueCount + 1\n",
    "    if (trueCount*100)/(total*100) > 50:\n",
    "        #pass vote of node being in cluster\n",
    "        return True\n",
    "    else:\n",
    "        #pass the false vote - node is not in cluster\n",
    "        return False"
   ]
  },
  {
   "cell_type": "code",
   "execution_count": 80,
   "id": "fef1392d",
   "metadata": {},
   "outputs": [],
   "source": [
    "def takeConsensus(X, labels):\n",
    "    conList = list()\n",
    "    X_ = X\n",
    "    for i in range(len(X)):\n",
    "        boolArr = list()\n",
    "        near, tempLab = nearest(X_, X[i], 3, labels)\n",
    "        X_ = np.delete(X, i, axis = 0) #This will exclude the current node from our next nearest calculations\n",
    "        boolArr1 = checkClus(tempLab[0],tempLab[1])\n",
    "        boolArr2 = checkClus(tempLab[0],tempLab[2])\n",
    "        if consensus(boolArr1):\n",
    "            conList.append(tempLab[0][0]) #need to sort this out such that we assign a valid cluster number\n",
    "        elif consensus(boolArr2): #here we check its second nearest neighbor before reclustering\n",
    "            conList.append(tempLab[1][0])\n",
    "        else: #recluster somehow\n",
    "            conList.append(labels[i][0])\n",
    "    return conList"
   ]
  },
  {
   "cell_type": "code",
   "execution_count": null,
   "id": "da6402e1",
   "metadata": {},
   "outputs": [],
   "source": [
    "#def recluster(): #For now we will repredict the node with Kmeans"
   ]
  },
  {
   "cell_type": "code",
   "execution_count": 11,
   "id": "8bd6fefd",
   "metadata": {},
   "outputs": [],
   "source": [
    "labels_ = log_labels\n",
    "            \n",
    "X = get_features(logs, 2, 70)\n",
    "X = X.toarray()\n",
    "\n",
    "idxs = np.where(np.all(X == 0, axis=1))\n",
    "\n",
    "X = np.delete(X, idxs, axis=0)\n",
    "labels_ = np.delete(labels_, idxs)\n",
    "## K Means Labels\n",
    "kmeans = KMeans(init=\"k-means++\", n_clusters=10,random_state=0).fit(X)\n",
    "kLabels = kmeans.labels_\n",
    "\n",
    "## DBSCAN Labels\n",
    "DBmodel = DBSCAN(eps=0.4,min_samples=200,algorithm=\"auto\",metric=\"cosine\")\n",
    "DBmodel.fit(X)\n",
    "dbLabels = DBmodel.labels_\n",
    "\n",
    "## HDBScan Label\n",
    "Hmodel = hdbscan.HDBSCAN(min_cluster_size=500,min_samples=100,cluster_selection_epsilon=0.5,\n",
    "                                        metric=\"euclidean\",algorithm='best')\n",
    "Hmodel.fit(X)\n",
    "hdcLabels = Hmodel.labels_"
   ]
  },
  {
   "cell_type": "code",
   "execution_count": 82,
   "id": "734830bb",
   "metadata": {},
   "outputs": [
    {
     "name": "stdout",
     "output_type": "stream",
     "text": [
      "0.0\n",
      "1.3908456115787189\n",
      "1.3908926728968498\n"
     ]
    },
    {
     "ename": "NameError",
     "evalue": "name 'true' is not defined",
     "output_type": "error",
     "traceback": [
      "\u001b[1;31m---------------------------------------------------------------------------\u001b[0m",
      "\u001b[1;31mNameError\u001b[0m                                 Traceback (most recent call last)",
      "\u001b[1;32m~\\AppData\\Local\\Temp/ipykernel_7304/1661278313.py\u001b[0m in \u001b[0;36m<module>\u001b[1;34m\u001b[0m\n\u001b[0;32m      5\u001b[0m \u001b[0mlabels\u001b[0m\u001b[1;33m.\u001b[0m\u001b[0mappend\u001b[0m\u001b[1;33m(\u001b[0m\u001b[0mhdcLabels\u001b[0m\u001b[1;33m)\u001b[0m\u001b[1;33m\u001b[0m\u001b[1;33m\u001b[0m\u001b[0m\n\u001b[0;32m      6\u001b[0m \u001b[1;33m\u001b[0m\u001b[0m\n\u001b[1;32m----> 7\u001b[1;33m \u001b[0mcLabels\u001b[0m \u001b[1;33m=\u001b[0m \u001b[0mtakeConsensus\u001b[0m\u001b[1;33m(\u001b[0m\u001b[0mX\u001b[0m\u001b[1;33m,\u001b[0m\u001b[0mlabels\u001b[0m\u001b[1;33m)\u001b[0m\u001b[1;33m\u001b[0m\u001b[1;33m\u001b[0m\u001b[0m\n\u001b[0m\u001b[0;32m      8\u001b[0m \u001b[1;33m\u001b[0m\u001b[0m\n",
      "\u001b[1;32m~\\AppData\\Local\\Temp/ipykernel_7304/1803348941.py\u001b[0m in \u001b[0;36mtakeConsensus\u001b[1;34m(X, labels)\u001b[0m\n\u001b[0;32m      8\u001b[0m         \u001b[0mboolArr1\u001b[0m \u001b[1;33m=\u001b[0m \u001b[0mcheckClus\u001b[0m\u001b[1;33m(\u001b[0m\u001b[0mtempLab\u001b[0m\u001b[1;33m[\u001b[0m\u001b[1;36m0\u001b[0m\u001b[1;33m]\u001b[0m\u001b[1;33m,\u001b[0m\u001b[0mtempLab\u001b[0m\u001b[1;33m[\u001b[0m\u001b[1;36m1\u001b[0m\u001b[1;33m]\u001b[0m\u001b[1;33m)\u001b[0m\u001b[1;33m\u001b[0m\u001b[1;33m\u001b[0m\u001b[0m\n\u001b[0;32m      9\u001b[0m         \u001b[0mboolArr2\u001b[0m \u001b[1;33m=\u001b[0m \u001b[0mcheckClus\u001b[0m\u001b[1;33m(\u001b[0m\u001b[0mtempLab\u001b[0m\u001b[1;33m[\u001b[0m\u001b[1;36m0\u001b[0m\u001b[1;33m]\u001b[0m\u001b[1;33m,\u001b[0m\u001b[0mtempLab\u001b[0m\u001b[1;33m[\u001b[0m\u001b[1;36m2\u001b[0m\u001b[1;33m]\u001b[0m\u001b[1;33m)\u001b[0m\u001b[1;33m\u001b[0m\u001b[1;33m\u001b[0m\u001b[0m\n\u001b[1;32m---> 10\u001b[1;33m         \u001b[1;32mif\u001b[0m \u001b[0mconsensus\u001b[0m\u001b[1;33m(\u001b[0m\u001b[0mboolArr1\u001b[0m\u001b[1;33m)\u001b[0m\u001b[1;33m:\u001b[0m\u001b[1;33m\u001b[0m\u001b[1;33m\u001b[0m\u001b[0m\n\u001b[0m\u001b[0;32m     11\u001b[0m             \u001b[0mconList\u001b[0m\u001b[1;33m.\u001b[0m\u001b[0mappend\u001b[0m\u001b[1;33m(\u001b[0m\u001b[0mtempLab\u001b[0m\u001b[1;33m[\u001b[0m\u001b[1;36m0\u001b[0m\u001b[1;33m]\u001b[0m\u001b[1;33m[\u001b[0m\u001b[1;36m0\u001b[0m\u001b[1;33m]\u001b[0m\u001b[1;33m)\u001b[0m \u001b[1;31m#need to sort this out such that we assign a valid cluster number\u001b[0m\u001b[1;33m\u001b[0m\u001b[1;33m\u001b[0m\u001b[0m\n\u001b[0;32m     12\u001b[0m         \u001b[1;32melif\u001b[0m \u001b[0mconsensus\u001b[0m\u001b[1;33m(\u001b[0m\u001b[0mboolArr2\u001b[0m\u001b[1;33m)\u001b[0m\u001b[1;33m:\u001b[0m \u001b[1;31m#here we check its second nearest neighbor before reclustering\u001b[0m\u001b[1;33m\u001b[0m\u001b[1;33m\u001b[0m\u001b[0m\n",
      "\u001b[1;32m~\\AppData\\Local\\Temp/ipykernel_7304/1508650169.py\u001b[0m in \u001b[0;36mconsensus\u001b[1;34m(boolArr)\u001b[0m\n\u001b[0;32m      3\u001b[0m     \u001b[0mtotal\u001b[0m \u001b[1;33m=\u001b[0m \u001b[0mlen\u001b[0m\u001b[1;33m(\u001b[0m\u001b[0mboolArr\u001b[0m\u001b[1;33m)\u001b[0m\u001b[1;33m\u001b[0m\u001b[1;33m\u001b[0m\u001b[0m\n\u001b[0;32m      4\u001b[0m     \u001b[1;32mfor\u001b[0m \u001b[0mi\u001b[0m \u001b[1;32min\u001b[0m \u001b[0mboolArr\u001b[0m\u001b[1;33m:\u001b[0m\u001b[1;33m\u001b[0m\u001b[1;33m\u001b[0m\u001b[0m\n\u001b[1;32m----> 5\u001b[1;33m         \u001b[1;32mif\u001b[0m \u001b[0mi\u001b[0m \u001b[1;33m==\u001b[0m \u001b[0mtrue\u001b[0m\u001b[1;33m:\u001b[0m\u001b[1;33m\u001b[0m\u001b[1;33m\u001b[0m\u001b[0m\n\u001b[0m\u001b[0;32m      6\u001b[0m             \u001b[0mtrueCount\u001b[0m \u001b[1;33m=\u001b[0m \u001b[0mtrueCount\u001b[0m \u001b[1;33m+\u001b[0m \u001b[1;36m1\u001b[0m\u001b[1;33m\u001b[0m\u001b[1;33m\u001b[0m\u001b[0m\n\u001b[0;32m      7\u001b[0m     \u001b[1;32mif\u001b[0m \u001b[1;33m(\u001b[0m\u001b[0mtrueCount\u001b[0m\u001b[1;33m*\u001b[0m\u001b[1;36m100\u001b[0m\u001b[1;33m)\u001b[0m\u001b[1;33m/\u001b[0m\u001b[1;33m(\u001b[0m\u001b[0mtotal\u001b[0m\u001b[1;33m*\u001b[0m\u001b[1;36m100\u001b[0m\u001b[1;33m)\u001b[0m \u001b[1;33m>\u001b[0m \u001b[1;36m50\u001b[0m\u001b[1;33m:\u001b[0m\u001b[1;33m\u001b[0m\u001b[1;33m\u001b[0m\u001b[0m\n",
      "\u001b[1;31mNameError\u001b[0m: name 'true' is not defined"
     ]
    }
   ],
   "source": [
    "#testing\n",
    "labels = list()\n",
    "labels.append(kLabels)\n",
    "labels.append(dbLabels)\n",
    "labels.append(hdcLabels)\n",
    "\n",
    "cLabels = takeConsensus(X,labels)\n",
    "\n"
   ]
  },
  {
   "cell_type": "code",
   "execution_count": null,
   "id": "98917c8e",
   "metadata": {},
   "outputs": [],
   "source": []
  },
  {
   "cell_type": "code",
   "execution_count": null,
   "id": "968f52a5",
   "metadata": {},
   "outputs": [],
   "source": [
    "results = evaluate_clustering('Consensus Bigram Clustering', X, labels_, cLabels)\n",
    "print(results)"
   ]
  }
 ],
 "metadata": {
  "kernelspec": {
   "display_name": "Python 3 (ipykernel)",
   "language": "python",
   "name": "python3"
  },
  "language_info": {
   "codemirror_mode": {
    "name": "ipython",
    "version": 3
   },
   "file_extension": ".py",
   "mimetype": "text/x-python",
   "name": "python",
   "nbconvert_exporter": "python",
   "pygments_lexer": "ipython3",
   "version": "3.9.7"
  }
 },
 "nbformat": 4,
 "nbformat_minor": 5
}
