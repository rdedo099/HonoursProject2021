{
 "cells": [
  {
   "cell_type": "code",
   "execution_count": 1,
   "id": "40aabf26",
   "metadata": {},
   "outputs": [],
   "source": [
    "%load_ext autoreload\n",
    "%autoreload 2"
   ]
  },
  {
   "cell_type": "code",
   "execution_count": 2,
   "id": "ae40dad3",
   "metadata": {},
   "outputs": [],
   "source": [
    "directory = \"./Logs/\"\n",
    "save_path = \"./Saved/\"\n",
    "\n",
    "from load_logs import *\n",
    "from evaluation import *\n",
    "from features import *\n",
    "from visualize import *\n",
    "\n",
    "logs, log_labels = read_logs_and_labels(\"./Saved/logs.txt\", \"./Saved/labels.txt\")\n",
    "\n",
    "import matplotlib.pyplot as plt\n",
    "import numpy as np\n",
    "import pandas as pd\n",
    "import re\n",
    "import os\n",
    "import pickle\n",
    "import sys\n",
    "import random\n",
    "import hdbscan\n",
    "import itertools\n",
    "\n",
    "from multiprocessing import get_context\n",
    "from scipy import sparse\n",
    "from multiprocessing import Pool\n",
    "from math import sqrt\n",
    "from sklearn import metrics\n",
    "from sklearn.cluster import DBSCAN\n",
    "from sklearn import metrics\n",
    "from sklearn.datasets import make_blobs\n",
    "from sklearn.preprocessing import StandardScaler\n",
    "from sklearn.feature_extraction.text import TfidfTransformer\n",
    "from sklearn.feature_extraction.text import CountVectorizer\n",
    "from sklearn.cluster import KMeans"
   ]
  },
  {
   "cell_type": "code",
   "execution_count": 3,
   "id": "076e88ec",
   "metadata": {},
   "outputs": [],
   "source": [
    "#Time to define necessary functions\n",
    "#Since this is based on a knn idea we will need to calculate euclidean distance"
   ]
  },
  {
   "cell_type": "code",
   "execution_count": 4,
   "id": "46429d13",
   "metadata": {},
   "outputs": [],
   "source": [
    "#Nearest neighbour - gets x number of nearest nodes\n",
    "def nearest(x, y_row, neighbors, labels): #specify number of neighbours to return\n",
    "    distances = np.linalg.norm(x - y_row, axis=1)#numpy array of distances\n",
    "    for i in labels:\n",
    "        distances = np.c_[distances,i]\n",
    "    distances = distances[np.argsort(distances[:, 0])]\n",
    "    neighborsList, neighborsLabels = list(), list()\n",
    "    for i in range(neighbors): #27093\n",
    "        neighborsList.append(distances[i][0])\n",
    "        neighborsLabels.append(distances[i][1:len(distances)-1])\n",
    "    return neighborsList,neighborsLabels"
   ]
  },
  {
   "cell_type": "code",
   "execution_count": 5,
   "id": "07e78306",
   "metadata": {},
   "outputs": [],
   "source": [
    "def lookUp(labels, lookup, which):\n",
    "    arr = np.array(labels)\n",
    "    x,y = np.shape(arr)\n",
    "    indices = np.argwhere(arr[which] == lookup)\n",
    "    return indices"
   ]
  },
  {
   "cell_type": "code",
   "execution_count": 6,
   "id": "6811084d",
   "metadata": {},
   "outputs": [],
   "source": [
    "def firstTrue(boolArr):\n",
    "    for i in range(len(boolArr)):\n",
    "        if boolArr[i] == True:\n",
    "            return i"
   ]
  },
  {
   "cell_type": "code",
   "execution_count": null,
   "id": "540d12c2",
   "metadata": {},
   "outputs": [],
   "source": []
  },
  {
   "cell_type": "code",
   "execution_count": null,
   "id": "e506e8e7",
   "metadata": {},
   "outputs": [],
   "source": []
  },
  {
   "cell_type": "code",
   "execution_count": 7,
   "id": "27326be0",
   "metadata": {},
   "outputs": [],
   "source": [
    "def isEqual(x,y):\n",
    "    if x == y:\n",
    "        return True\n",
    "    else:\n",
    "        return False"
   ]
  },
  {
   "cell_type": "code",
   "execution_count": 8,
   "id": "e3900459",
   "metadata": {},
   "outputs": [],
   "source": [
    "#Current and nearest are same cluster then true otherwise false\n",
    "def checkClus(x,y):\n",
    "    boolArr = list(map(isEqual, x, y))\n",
    "    return boolArr"
   ]
  },
  {
   "cell_type": "code",
   "execution_count": 9,
   "id": "280350ef",
   "metadata": {},
   "outputs": [],
   "source": [
    "def consensus(x,y,labels): #form boolean array from checkClus, if majority are true then the node should be in the cluster, otherwise not\n",
    "    boolArr=checkClus(x,y)\n",
    "    trueCount, total,first = sum(boolArr), len(boolArr), firstTrue(boolArr)\n",
    "    if (trueCount)/(total) > 0.5:\n",
    "        #pass vote of node being in cluster\n",
    "        if (boolArr[0] == False):\n",
    "            print(\"did not fully pass\")\n",
    "            print(x)\n",
    "            print(y)\n",
    "            ind1 = lookUp(labels,x[first],first)\n",
    "            ind2 = lookUp(labels,x[0],0)\n",
    "            finalind = next((a for a in ind1 if a in ind2), None)\n",
    "            xVal = labels[0][finalind]\n",
    "            return True,xVal\n",
    "        return True, x[0]\n",
    "    else:\n",
    "        print(\"failed!\")\n",
    "        #pass the false vote - node is not in cluster\n",
    "        return False, 0#,recluster(x,y,labels)"
   ]
  },
  {
   "cell_type": "code",
   "execution_count": 10,
   "id": "b5fff590",
   "metadata": {},
   "outputs": [],
   "source": [
    "def comprehension(X,labels,x,itera):\n",
    "    if itera > 0:\n",
    "        X = np.delete(X,[0,itera-1], axis = 0)\n",
    "        labels = np.delete(labels,[0,itera-1], axis = 0)\n",
    "    near, tempLab = nearest(X, x, 3, labels)\n",
    "    boolArr1,res1 = consensus(tempLab[0],tempLab[1],labels)\n",
    "    boolArr2,res2 = consensus(tempLab[0],tempLab[2],labels)\n",
    "    if boolArr1:\n",
    "        return res1 #need to sort this out such that we assign a valid cluster number\n",
    "    elif boolArr2: #here we check its second nearest neighbor before reclustering\n",
    "        return res2\n",
    "    else: #recluster somehow\n",
    "        return tempLab[0][0]"
   ]
  },
  {
   "cell_type": "code",
   "execution_count": 11,
   "id": "ce79bb3f",
   "metadata": {},
   "outputs": [],
   "source": [
    "def takeConsensus(X, labels):\n",
    "    x,y = np.shape(X)\n",
    "    i = list(range(0,x))\n",
    "    tasks = [*zip(itertools.repeat(X,x),itertools.repeat(labels,x), X,i)]\n",
    "    print(\"running consensus\")\n",
    "    #p = Pool(6)#Multiprocessing to speed up run time\n",
    "    with Pool() as p:\n",
    "    #conList = [comprehension(X, labels, x) for x in X]\n",
    "        conList = p.starmap(comprehension, tasks)\n",
    "    #conList = starmap(comprehension, tasks)\n",
    "    #for i in range(len(X)):\n",
    "        #boolArr = list()\n",
    "        #near, tempLab = nearest(X_, X[i], 3, labels) #do not repeat values in proximity\n",
    "        #X_ = np.delete(X, i, axis = 0) #This will exclude the current node from our next nearest calculations\n",
    "        #boolArr1 = checkClus(tempLab[0],tempLab[1])\n",
    "       # boolArr2 = checkClus(tempLab[0],tempLab[2])\n",
    "        #if consensus(boolArr1):\n",
    "          #  conList.append(tempLab[0][0]) #need to sort this out such that we assign a valid cluster number\n",
    "        #elif consensus(boolArr2): #here we check its second nearest neighbor before reclustering\n",
    "         #   conList.append(tempLab[1][0])\n",
    "       # else: #recluster somehow\n",
    "           # conList.append(tempLab[0][0])\n",
    "        #print(conList)\n",
    "    return conList"
   ]
  },
  {
   "cell_type": "code",
   "execution_count": 12,
   "id": "72e6d1b4",
   "metadata": {},
   "outputs": [],
   "source": [
    "#def recluster(): #For now we will repredict the node with Kmeans"
   ]
  },
  {
   "cell_type": "code",
   "execution_count": 14,
   "id": "8bd6fefd",
   "metadata": {},
   "outputs": [],
   "source": [
    "labels_ = log_labels\n",
    "            \n",
    "X = get_features(logs, 2, 70)\n",
    "X = X.toarray()\n",
    "\n",
    "idxs = np.where(np.all(X == 0, axis=1))\n",
    "\n",
    "X = np.delete(X, idxs, axis=0)\n",
    "labels_ = np.delete(labels_, idxs)\n",
    "## K Means Labels\n",
    "kmeans = KMeans(init=\"k-means++\", n_clusters=10,random_state=0).fit(X)\n",
    "kLabels = kmeans.labels_\n",
    "\n",
    "## DBSCAN Labels\n",
    "DBmodel = DBSCAN(eps=0.4,min_samples=200,algorithm=\"auto\",metric=\"cosine\")\n",
    "DBmodel.fit(X)\n",
    "dbLabels = DBmodel.labels_\n",
    "\n",
    "## HDBScan Label\n",
    "Hmodel = hdbscan.HDBSCAN(min_cluster_size=500,min_samples=100,cluster_selection_epsilon=0.5,\n",
    "                                        metric=\"euclidean\",algorithm='best')\n",
    "Hmodel.fit(X)\n",
    "hdcLabels = Hmodel.labels_"
   ]
  },
  {
   "cell_type": "code",
   "execution_count": 15,
   "id": "734830bb",
   "metadata": {
    "scrolled": true
   },
   "outputs": [
    {
     "name": "stdout",
     "output_type": "stream",
     "text": [
      "[0.0, 0.0]\n",
      "[ 6. -1.  1.]\n",
      "[True, True, True]\n",
      "(True, 6.0)\n",
      "27093\n"
     ]
    }
   ],
   "source": [
    "#testing\n",
    "labels = list()\n",
    "labels.append(kLabels)\n",
    "labels.append(dbLabels)\n",
    "labels.append(hdcLabels)\n",
    "\n",
    "x,y = nearest(X, X[0], 2, labels)\n",
    "print(x)\n",
    "print(y[0])\n",
    "boolArr = checkClus(y[0],y[1])\n",
    "print(boolArr)\n",
    "\n",
    "print(consensus(y[0],y[1],labels))\n",
    "x,y = np.shape(X)\n",
    "print(x)"
   ]
  },
  {
   "cell_type": "code",
   "execution_count": 22,
   "id": "e8b83ef9",
   "metadata": {},
   "outputs": [
    {
     "name": "stdout",
     "output_type": "stream",
     "text": [
      "(3, 27093)\n",
      "(27093, 1832)\n"
     ]
    }
   ],
   "source": [
    "print(np.shape(labels))\n",
    "print(np.shape(X))"
   ]
  },
  {
   "cell_type": "code",
   "execution_count": null,
   "id": "46e70df5",
   "metadata": {},
   "outputs": [],
   "source": []
  },
  {
   "cell_type": "code",
   "execution_count": null,
   "id": "e48a9369",
   "metadata": {},
   "outputs": [],
   "source": []
  },
  {
   "cell_type": "code",
   "execution_count": null,
   "id": "01dfeb5c",
   "metadata": {},
   "outputs": [],
   "source": []
  },
  {
   "cell_type": "code",
   "execution_count": null,
   "id": "c5ae785c",
   "metadata": {},
   "outputs": [],
   "source": []
  },
  {
   "cell_type": "code",
   "execution_count": null,
   "id": "03234658",
   "metadata": {},
   "outputs": [],
   "source": []
  },
  {
   "cell_type": "code",
   "execution_count": 23,
   "id": "7d2e3679",
   "metadata": {},
   "outputs": [
    {
     "ename": "TypeError",
     "evalue": "cannot unpack non-iterable bool object",
     "output_type": "error",
     "traceback": [
      "\u001b[1;31m---------------------------------------------------------------------------\u001b[0m",
      "\u001b[1;31mRemoteTraceback\u001b[0m                           Traceback (most recent call last)",
      "\u001b[1;31mRemoteTraceback\u001b[0m: \n\"\"\"\nTraceback (most recent call last):\n  File \"C:\\Program Files\\WindowsApps\\PythonSoftwareFoundation.Python.3.9_3.9.2288.0_x64__qbz5n2kfra8p0\\lib\\multiprocessing\\pool.py\", line 125, in worker\n    result = (True, func(*args, **kwds))\n  File \"C:\\Program Files\\WindowsApps\\PythonSoftwareFoundation.Python.3.9_3.9.2288.0_x64__qbz5n2kfra8p0\\lib\\multiprocessing\\pool.py\", line 51, in starmapstar\n    return list(itertools.starmap(args[0], args[1]))\n  File \"C:\\Users\\Riley\\Documents\\GitHub\\HonoursProject2021\\worker.py\", line 73, in comprehension\n    boolArr1,res1 = consensus(tempLab[0],tempLab[1],labels)\nTypeError: cannot unpack non-iterable bool object\n\"\"\"",
      "\nThe above exception was the direct cause of the following exception:\n",
      "\u001b[1;31mTypeError\u001b[0m                                 Traceback (most recent call last)",
      "\u001b[1;32m~\\AppData\\Local\\Temp/ipykernel_2196/1022435096.py\u001b[0m in \u001b[0;36m<module>\u001b[1;34m\u001b[0m\n\u001b[0;32m      6\u001b[0m     \u001b[0mtasks\u001b[0m \u001b[1;33m=\u001b[0m \u001b[1;33m[\u001b[0m\u001b[1;33m*\u001b[0m\u001b[0mzip\u001b[0m\u001b[1;33m(\u001b[0m\u001b[0mitertools\u001b[0m\u001b[1;33m.\u001b[0m\u001b[0mrepeat\u001b[0m\u001b[1;33m(\u001b[0m\u001b[0mX\u001b[0m\u001b[1;33m,\u001b[0m \u001b[0mx\u001b[0m\u001b[1;33m)\u001b[0m\u001b[1;33m,\u001b[0m\u001b[0mitertools\u001b[0m\u001b[1;33m.\u001b[0m\u001b[0mrepeat\u001b[0m\u001b[1;33m(\u001b[0m\u001b[0mlabels\u001b[0m\u001b[1;33m,\u001b[0m \u001b[0mx\u001b[0m\u001b[1;33m)\u001b[0m\u001b[1;33m,\u001b[0m \u001b[0mX\u001b[0m\u001b[1;33m,\u001b[0m \u001b[0mi\u001b[0m\u001b[1;33m)\u001b[0m\u001b[1;33m]\u001b[0m\u001b[1;33m\u001b[0m\u001b[1;33m\u001b[0m\u001b[0m\n\u001b[0;32m      7\u001b[0m     \u001b[0mp\u001b[0m \u001b[1;33m=\u001b[0m \u001b[0mPool\u001b[0m\u001b[1;33m(\u001b[0m\u001b[1;36m6\u001b[0m\u001b[1;33m)\u001b[0m\u001b[1;33m\u001b[0m\u001b[1;33m\u001b[0m\u001b[0m\n\u001b[1;32m----> 8\u001b[1;33m     \u001b[0mcLabels\u001b[0m \u001b[1;33m=\u001b[0m \u001b[0mp\u001b[0m\u001b[1;33m.\u001b[0m\u001b[0mstarmap\u001b[0m\u001b[1;33m(\u001b[0m\u001b[0mworker\u001b[0m\u001b[1;33m.\u001b[0m\u001b[0mcomprehension\u001b[0m\u001b[1;33m,\u001b[0m \u001b[0mtasks\u001b[0m\u001b[1;33m)\u001b[0m\u001b[1;33m\u001b[0m\u001b[1;33m\u001b[0m\u001b[0m\n\u001b[0m\u001b[0;32m      9\u001b[0m     \u001b[0mprint\u001b[0m\u001b[1;33m(\u001b[0m\u001b[0mcLabels\u001b[0m\u001b[1;33m)\u001b[0m\u001b[1;33m\u001b[0m\u001b[1;33m\u001b[0m\u001b[0m\n\u001b[0;32m     10\u001b[0m     \u001b[0mp\u001b[0m\u001b[1;33m.\u001b[0m\u001b[0mclose\u001b[0m\u001b[1;33m(\u001b[0m\u001b[1;33m)\u001b[0m\u001b[1;33m\u001b[0m\u001b[1;33m\u001b[0m\u001b[0m\n",
      "\u001b[1;32mC:\\Program Files\\WindowsApps\\PythonSoftwareFoundation.Python.3.9_3.9.2288.0_x64__qbz5n2kfra8p0\\lib\\multiprocessing\\pool.py\u001b[0m in \u001b[0;36mstarmap\u001b[1;34m(self, func, iterable, chunksize)\u001b[0m\n\u001b[0;32m    370\u001b[0m         \u001b[0;31m`\u001b[0m\u001b[0mfunc\u001b[0m\u001b[0;31m`\u001b[0m \u001b[1;32mand\u001b[0m \u001b[1;33m(\u001b[0m\u001b[0ma\u001b[0m\u001b[1;33m,\u001b[0m \u001b[0mb\u001b[0m\u001b[1;33m)\u001b[0m \u001b[0mbecomes\u001b[0m \u001b[0mfunc\u001b[0m\u001b[1;33m(\u001b[0m\u001b[0ma\u001b[0m\u001b[1;33m,\u001b[0m \u001b[0mb\u001b[0m\u001b[1;33m)\u001b[0m\u001b[1;33m.\u001b[0m\u001b[1;33m\u001b[0m\u001b[1;33m\u001b[0m\u001b[0m\n\u001b[0;32m    371\u001b[0m         '''\n\u001b[1;32m--> 372\u001b[1;33m         \u001b[1;32mreturn\u001b[0m \u001b[0mself\u001b[0m\u001b[1;33m.\u001b[0m\u001b[0m_map_async\u001b[0m\u001b[1;33m(\u001b[0m\u001b[0mfunc\u001b[0m\u001b[1;33m,\u001b[0m \u001b[0miterable\u001b[0m\u001b[1;33m,\u001b[0m \u001b[0mstarmapstar\u001b[0m\u001b[1;33m,\u001b[0m \u001b[0mchunksize\u001b[0m\u001b[1;33m)\u001b[0m\u001b[1;33m.\u001b[0m\u001b[0mget\u001b[0m\u001b[1;33m(\u001b[0m\u001b[1;33m)\u001b[0m\u001b[1;33m\u001b[0m\u001b[1;33m\u001b[0m\u001b[0m\n\u001b[0m\u001b[0;32m    373\u001b[0m \u001b[1;33m\u001b[0m\u001b[0m\n\u001b[0;32m    374\u001b[0m     def starmap_async(self, func, iterable, chunksize=None, callback=None,\n",
      "\u001b[1;32mC:\\Program Files\\WindowsApps\\PythonSoftwareFoundation.Python.3.9_3.9.2288.0_x64__qbz5n2kfra8p0\\lib\\multiprocessing\\pool.py\u001b[0m in \u001b[0;36mget\u001b[1;34m(self, timeout)\u001b[0m\n\u001b[0;32m    769\u001b[0m             \u001b[1;32mreturn\u001b[0m \u001b[0mself\u001b[0m\u001b[1;33m.\u001b[0m\u001b[0m_value\u001b[0m\u001b[1;33m\u001b[0m\u001b[1;33m\u001b[0m\u001b[0m\n\u001b[0;32m    770\u001b[0m         \u001b[1;32melse\u001b[0m\u001b[1;33m:\u001b[0m\u001b[1;33m\u001b[0m\u001b[1;33m\u001b[0m\u001b[0m\n\u001b[1;32m--> 771\u001b[1;33m             \u001b[1;32mraise\u001b[0m \u001b[0mself\u001b[0m\u001b[1;33m.\u001b[0m\u001b[0m_value\u001b[0m\u001b[1;33m\u001b[0m\u001b[1;33m\u001b[0m\u001b[0m\n\u001b[0m\u001b[0;32m    772\u001b[0m \u001b[1;33m\u001b[0m\u001b[0m\n\u001b[0;32m    773\u001b[0m     \u001b[1;32mdef\u001b[0m \u001b[0m_set\u001b[0m\u001b[1;33m(\u001b[0m\u001b[0mself\u001b[0m\u001b[1;33m,\u001b[0m \u001b[0mi\u001b[0m\u001b[1;33m,\u001b[0m \u001b[0mobj\u001b[0m\u001b[1;33m)\u001b[0m\u001b[1;33m:\u001b[0m\u001b[1;33m\u001b[0m\u001b[1;33m\u001b[0m\u001b[0m\n",
      "\u001b[1;31mTypeError\u001b[0m: cannot unpack non-iterable bool object"
     ]
    }
   ],
   "source": [
    "import worker\n",
    "\n",
    "if __name__ == '__main__':\n",
    "    x,y = np.shape(X)\n",
    "    i = list(range(0,x))\n",
    "    tasks = [*zip(itertools.repeat(X, x),itertools.repeat(labels, x), X, i)]\n",
    "    p = Pool(6)\n",
    "    cLabels = p.starmap(worker.comprehension, tasks)\n",
    "    print(cLabels)\n",
    "    p.close()\n",
    "    p.join()"
   ]
  },
  {
   "cell_type": "code",
   "execution_count": null,
   "id": "ca2732f5",
   "metadata": {},
   "outputs": [],
   "source": []
  },
  {
   "cell_type": "code",
   "execution_count": null,
   "id": "1a1e70d1",
   "metadata": {},
   "outputs": [],
   "source": []
  },
  {
   "cell_type": "code",
   "execution_count": null,
   "id": "e3895de0",
   "metadata": {},
   "outputs": [],
   "source": [
    "plot_clusters(\"Consensus Bigram Clustering using UMAP\", X, cLabels)"
   ]
  },
  {
   "cell_type": "code",
   "execution_count": null,
   "id": "72b03270",
   "metadata": {},
   "outputs": [],
   "source": [
    "results = evaluate_clustering('Consensus Bigram Clustering', X, labels_, cLabels)\n",
    "print(results)"
   ]
  },
  {
   "cell_type": "code",
   "execution_count": null,
   "id": "0a8f0cb8",
   "metadata": {},
   "outputs": [],
   "source": [
    "labels_ = log_labels\n",
    "            \n",
    "X = get_features(logs, 3, 90)\n",
    "X = X.toarray()\n",
    "\n",
    "idxs = np.where(np.all(X == 0, axis=1))\n",
    "\n",
    "X = np.delete(X, idxs, axis=0)\n",
    "labels_ = np.delete(labels_, idxs)\n",
    "## K Means Labels\n",
    "kmeans = KMeans(init=\"k-means++\", n_clusters=10,random_state=0).fit(X)\n",
    "kLabels = kmeans.labels_\n",
    "\n",
    "## DBSCAN Labels\n",
    "DBmodel = DBSCAN(eps=0.4,min_samples=200,algorithm=\"auto\",metric=\"cosine\")\n",
    "DBmodel.fit(X)\n",
    "dbLabels = DBmodel.labels_\n",
    "\n",
    "## HDBScan Label\n",
    "Hmodel = hdbscan.HDBSCAN(min_cluster_size=500,min_samples=100,cluster_selection_epsilon=0.5,\n",
    "                                        metric=\"euclidean\",algorithm='best')\n",
    "Hmodel.fit(X)\n",
    "hdcLabels = Hmodel.labels_"
   ]
  },
  {
   "cell_type": "code",
   "execution_count": null,
   "id": "2cb7c261",
   "metadata": {},
   "outputs": [],
   "source": [
    "labels = list()\n",
    "labels.append(kLabels)\n",
    "labels.append(dbLabels)\n",
    "labels.append(hdcLabels)"
   ]
  },
  {
   "cell_type": "code",
   "execution_count": null,
   "id": "33835770",
   "metadata": {},
   "outputs": [],
   "source": [
    "import worker\n",
    "\n",
    "if __name__ == '__main__':\n",
    "    x,y = np.shape(X)\n",
    "    i = list(range(0,x))\n",
    "    tasks = [*zip(itertools.repeat(X, x),itertools.repeat(labels, x), X, i)]\n",
    "    p = Pool(6)\n",
    "    cLabels = p.starmap(worker.comprehension, tasks)\n",
    "    print(cLabels)\n",
    "    p.close()\n",
    "    p.join()"
   ]
  },
  {
   "cell_type": "code",
   "execution_count": null,
   "id": "f8f3246c",
   "metadata": {},
   "outputs": [],
   "source": [
    "plot_clusters(\"Consensus Trigram Clustering using UMAP\", X, cLabels)"
   ]
  },
  {
   "cell_type": "code",
   "execution_count": null,
   "id": "2a283609",
   "metadata": {},
   "outputs": [],
   "source": [
    "results = evaluate_clustering('Consensus Bigram Clustering', X, labels_, cLabels)\n",
    "print(results)"
   ]
  },
  {
   "cell_type": "code",
   "execution_count": null,
   "id": "c1c3c993",
   "metadata": {},
   "outputs": [],
   "source": []
  }
 ],
 "metadata": {
  "kernelspec": {
   "display_name": "Python 3 (ipykernel)",
   "language": "python",
   "name": "python3"
  },
  "language_info": {
   "codemirror_mode": {
    "name": "ipython",
    "version": 3
   },
   "file_extension": ".py",
   "mimetype": "text/x-python",
   "name": "python",
   "nbconvert_exporter": "python",
   "pygments_lexer": "ipython3",
   "version": "3.9.8"
  }
 },
 "nbformat": 4,
 "nbformat_minor": 5
}
