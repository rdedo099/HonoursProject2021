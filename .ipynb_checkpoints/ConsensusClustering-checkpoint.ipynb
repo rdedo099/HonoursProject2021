{
 "cells": [
  {
   "cell_type": "code",
   "execution_count": 4,
   "id": "40aabf26",
   "metadata": {},
   "outputs": [],
   "source": [
    "%load_ext autoreload\n",
    "%autoreload 2"
   ]
  },
  {
   "cell_type": "code",
   "execution_count": 5,
   "id": "ae40dad3",
   "metadata": {},
   "outputs": [],
   "source": [
    "directory = \"./Logs/\"\n",
    "save_path = \"./Saved/\"\n",
    "\n",
    "from load_logs import *\n",
    "from evaluation import *\n",
    "from features import *\n",
    "from visualize import *\n",
    "\n",
    "logs, log_labels = read_logs_and_labels(\"./Saved/logs.txt\", \"./Saved/labels.txt\")\n",
    "\n",
    "import matplotlib.pyplot as plt\n",
    "import numpy as np\n",
    "import pandas as pd\n",
    "import re\n",
    "import os\n",
    "import pickle\n",
    "import sys\n",
    "import random\n",
    "import hdbscan\n",
    "\n",
    "from scipy import sparse\n",
    "from math import sqrt\n",
    "from sklearn import metrics\n",
    "from sklearn.cluster import DBSCAN\n",
    "from sklearn import metrics\n",
    "from sklearn.datasets import make_blobs\n",
    "from sklearn.preprocessing import StandardScaler\n",
    "from sklearn.feature_extraction.text import TfidfTransformer\n",
    "from sklearn.feature_extraction.text import CountVectorizer\n",
    "from sklearn.cluster import KMeans"
   ]
  },
  {
   "cell_type": "code",
   "execution_count": 6,
   "id": "076e88ec",
   "metadata": {},
   "outputs": [],
   "source": [
    "#Time to define necessary functions\n",
    "#Since this is based on a knn idea we will need to calculate euclidean distance"
   ]
  },
  {
   "cell_type": "code",
   "execution_count": 64,
   "id": "c0d681f1",
   "metadata": {},
   "outputs": [],
   "source": [
    "#Euclidan distance function\n",
    "def eucDist(x,y):\n",
    "    dist = 0.0\n",
    "    for i in range (len(y)-1):\n",
    "        dist += (x[i] - y[i])**2\n",
    "    return sqrt(dist)"
   ]
  },
  {
   "cell_type": "code",
   "execution_count": 65,
   "id": "46429d13",
   "metadata": {},
   "outputs": [],
   "source": [
    "#Nearest neighbour - gets x number of nearest nodes\n",
    "def nearest(x, y_row, neighbors, labels): #specify number of neighbours to return\n",
    "    distances = list()\n",
    "    for i in range(len(x)): #loop through x, calculate distance and sort by distance, will allow us to get nearest neighbor\n",
    "        x_row = x[i]\n",
    "        dist = eucDist(y_row, x_row)\n",
    "        nodeLabels = list()\n",
    "        for lab in labels:\n",
    "            nodeLabels.append(lab[i])\n",
    "        distances.append((x_row, dist, nodeLabels))\n",
    "        distances.sort(key=lambda tup: tup[1])\n",
    "    neighborsList = list()\n",
    "    neighborsLabels = list()\n",
    "    for i in range(neighbors): #27093\n",
    "        neighborsList.append(distances[i][0])\n",
    "        neighborsLabels.append(distances[i][2])\n",
    "    return neighborsList, neighborsLabels"
   ]
  },
  {
   "cell_type": "code",
   "execution_count": 9,
   "id": "e3900459",
   "metadata": {},
   "outputs": [],
   "source": [
    "#Current and nearest are same cluster then true otherwise false\n",
    "def checkClus(x,y):\n",
    "    boolArr = list()\n",
    "    for i in range(len(x)):\n",
    "        if (x[i] == y[i]):\n",
    "            boolArr.append(true)\n",
    "        else:\n",
    "            boolArr.append(false)\n",
    "    return boolArr"
   ]
  },
  {
   "cell_type": "code",
   "execution_count": 10,
   "id": "b1d7699c",
   "metadata": {},
   "outputs": [],
   "source": [
    "def consensus(boolArr): #form boolean array from checkClus, if majority are true then the node should be in the cluster, otherwise not\n",
    "    trueCount = 0\n",
    "    total = len(boolArr)\n",
    "    for i in boolArr:\n",
    "        if i == true:\n",
    "            trueCount = trueCount + 1\n",
    "    if (trueCount*100)/(total*100) > 50:\n",
    "        #pass vote of node being in cluster\n",
    "        return true\n",
    "    else:\n",
    "        #pass the false vote - node is not in cluster\n",
    "        return false"
   ]
  },
  {
   "cell_type": "code",
   "execution_count": 25,
   "id": "7c449221",
   "metadata": {},
   "outputs": [],
   "source": [
    "def takeConsensus(X, labels):\n",
    "    conList = list()\n",
    "    X_ = X\n",
    "    for i in range(len(X)):\n",
    "        boolArr = list()\n",
    "        X_ = np.delete(X, i, axis = 0) #This will exclude the current node from our nearest calculations\n",
    "        near, tempLab = nearest(X_, X[i], 2, labels)\n",
    "        boolArr1 = checkClus(labels[i],tempLab[0])\n",
    "        boolArr2 = checkClus(labels[i],tempLab[1])\n",
    "        if consensus(boolArr1):\n",
    "            conList.append(tempLab[0][0]) #need to sort this out such that we assign a valid cluster number\n",
    "        elif consensus(boolArr2): #here we check its second nearest neighbor before reclustering\n",
    "            conList.append(tempLab[1][0])\n",
    "        else: #recluster somehow"
   ]
  },
  {
   "cell_type": "code",
   "execution_count": 11,
   "id": "8bd6fefd",
   "metadata": {},
   "outputs": [],
   "source": [
    "labels_ = log_labels\n",
    "            \n",
    "X = get_features(logs, 2, 70)\n",
    "X = X.toarray()\n",
    "\n",
    "idxs = np.where(np.all(X == 0, axis=1))\n",
    "\n",
    "X = np.delete(X, idxs, axis=0)\n",
    "labels_ = np.delete(labels_, idxs)\n",
    "## K Means Labels\n",
    "kmeans = KMeans(init=\"k-means++\", n_clusters=10,random_state=0).fit(X)\n",
    "kLabels = kmeans.labels_\n",
    "\n",
    "## DBSCAN Labels\n",
    "DBmodel = DBSCAN(eps=0.4,min_samples=200,algorithm=\"auto\",metric=\"cosine\")\n",
    "DBmodel.fit(X)\n",
    "dbLabels = DBmodel.labels_\n",
    "\n",
    "## HDBScan Label\n",
    "Hmodel = hdbscan.HDBSCAN(min_cluster_size=500,min_samples=100,cluster_selection_epsilon=0.5,\n",
    "                                        metric=\"euclidean\",algorithm='best')\n",
    "Hmodel.fit(X)\n",
    "hdcLabels = Hmodel.labels_"
   ]
  },
  {
   "cell_type": "code",
   "execution_count": 66,
   "id": "734830bb",
   "metadata": {},
   "outputs": [
    {
     "name": "stdout",
     "output_type": "stream",
     "text": [
      "1.3908926728968498\n",
      "X0 nearest\n",
      "0.0\n",
      "1.3908456115787189\n"
     ]
    }
   ],
   "source": [
    "#testing\n",
    "labels = list()\n",
    "labels.append(kLabels)\n",
    "labels.append(dbLabels)\n",
    "labels.append(hdcLabels)\n",
    "\n"
   ]
  },
  {
   "cell_type": "code",
   "execution_count": null,
   "id": "f3165dce",
   "metadata": {},
   "outputs": [],
   "source": []
  },
  {
   "cell_type": "code",
   "execution_count": null,
   "id": "c16ef1d8",
   "metadata": {},
   "outputs": [],
   "source": []
  }
 ],
 "metadata": {
  "kernelspec": {
   "display_name": "Python 3 (ipykernel)",
   "language": "python",
   "name": "python3"
  },
  "language_info": {
   "codemirror_mode": {
    "name": "ipython",
    "version": 3
   },
   "file_extension": ".py",
   "mimetype": "text/x-python",
   "name": "python",
   "nbconvert_exporter": "python",
   "pygments_lexer": "ipython3",
   "version": "3.9.7"
  }
 },
 "nbformat": 4,
 "nbformat_minor": 5
}
