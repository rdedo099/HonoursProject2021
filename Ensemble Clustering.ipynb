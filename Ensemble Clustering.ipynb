{
 "cells": [
  {
   "cell_type": "code",
   "execution_count": 1,
   "id": "514166cb",
   "metadata": {},
   "outputs": [],
   "source": [
    "%load_ext autoreload\n",
    "%autoreload 2"
   ]
  },
  {
   "cell_type": "code",
   "execution_count": 2,
   "id": "17187b6b",
   "metadata": {},
   "outputs": [],
   "source": [
    "directory = \"./Logs/\"\n",
    "save_path = \"./Saved/\"\n",
    "\n",
    "from load_logs import *\n",
    "from evaluation import *\n",
    "from features import *\n",
    "from visualize import *\n",
    "\n",
    "logs, log_labels = read_logs_and_labels(\"./Saved/logs.txt\", \"./Saved/labels.txt\")\n",
    "\n",
    "import matplotlib.pyplot as plt\n",
    "import numpy as np\n",
    "import pandas as pd\n",
    "import re\n",
    "import os\n",
    "import pickle\n",
    "import sys\n",
    "import random\n",
    "\n",
    "from sklearn.cluster import DBSCAN\n",
    "from sklearn import metrics\n",
    "from sklearn.datasets import make_blobs\n",
    "from sklearn.preprocessing import StandardScaler\n",
    "from sklearn.feature_extraction.text import TfidfTransformer\n",
    "from sklearn.feature_extraction.text import CountVectorizer\n",
    "from sklearn.cluster import KMeans\n"
   ]
  },
  {
   "cell_type": "code",
   "execution_count": null,
   "id": "c4c629c3",
   "metadata": {},
   "outputs": [],
   "source": []
  },
  {
   "cell_type": "code",
   "execution_count": 3,
   "id": "e44b8218",
   "metadata": {},
   "outputs": [],
   "source": [
    "## Get labels & form into a matrix - for now starting with K means and DBScan"
   ]
  },
  {
   "cell_type": "code",
   "execution_count": null,
   "id": "6bedcda9",
   "metadata": {},
   "outputs": [],
   "source": []
  },
  {
   "cell_type": "code",
   "execution_count": 4,
   "id": "03104389",
   "metadata": {},
   "outputs": [],
   "source": [
    "## Sort through labels where consensus becomes result - What to do if all results differ ?"
   ]
  },
  {
   "cell_type": "code",
   "execution_count": null,
   "id": "8bca5026",
   "metadata": {},
   "outputs": [],
   "source": []
  },
  {
   "cell_type": "code",
   "execution_count": 5,
   "id": "76e0916c",
   "metadata": {},
   "outputs": [],
   "source": [
    "##Bigram"
   ]
  },
  {
   "cell_type": "code",
   "execution_count": 9,
   "id": "8b5c03ce",
   "metadata": {},
   "outputs": [],
   "source": [
    "labels_ = log_labels\n",
    "            \n",
    "X = get_features(logs, 2, 70)\n",
    "X = X.toarray()\n",
    "\n",
    "idxs = np.where(np.all(X == 0, axis=1))\n",
    "\n",
    "X = np.delete(X, idxs, axis=0)\n",
    "labels_ = np.delete(labels_, idxs)\n",
    "## K Means Labels\n",
    "kmeans = KMeans(init=\"k-means++\", n_clusters=10,random_state=0).fit(X)\n",
    "kLabels = kmeans.labels_\n",
    "\n",
    "## DBSCAN Labels\n",
    "model = DBSCAN(eps=0.4,min_samples=200,algorithm=\"auto\",metric=\"cosine\")\n",
    "model.fit(X)\n",
    "dbLabels = model.labels_"
   ]
  },
  {
   "cell_type": "code",
   "execution_count": 11,
   "id": "ac0e8f0d",
   "metadata": {},
   "outputs": [
    {
     "name": "stdout",
     "output_type": "stream",
     "text": [
      "[5 4 4 ... 8 0 7]\n",
      "[ 0  1  2 ... -1  3  3]\n",
      "[5 4 4 ... 8 0 7] [ 0  1  2 ... -1  3  3]\n"
     ]
    }
   ],
   "source": [
    "print(kLabels)\n",
    "print(dbLabels)\n",
    "labelsMatrix = []\n",
    "labelsMatrix.append(kLabels)\n",
    "labelsMatrix.append(dbLabels)\n",
    "print(kLabels,dbLabels)"
   ]
  },
  {
   "cell_type": "code",
   "execution_count": 5,
   "id": "c7ec4046",
   "metadata": {},
   "outputs": [],
   "source": [
    "##Trigram"
   ]
  },
  {
   "cell_type": "code",
   "execution_count": null,
   "id": "791d3084",
   "metadata": {},
   "outputs": [],
   "source": []
  },
  {
   "cell_type": "code",
   "execution_count": null,
   "id": "cb3f1bdf",
   "metadata": {},
   "outputs": [],
   "source": []
  }
 ],
 "metadata": {
  "kernelspec": {
   "display_name": "Python 3 (ipykernel)",
   "language": "python",
   "name": "python3"
  },
  "language_info": {
   "codemirror_mode": {
    "name": "ipython",
    "version": 3
   },
   "file_extension": ".py",
   "mimetype": "text/x-python",
   "name": "python",
   "nbconvert_exporter": "python",
   "pygments_lexer": "ipython3",
   "version": "3.9.7"
  }
 },
 "nbformat": 4,
 "nbformat_minor": 5
}
